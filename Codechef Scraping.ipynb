{
 "cells": [
  {
   "cell_type": "code",
   "execution_count": null,
   "metadata": {},
   "outputs": [
    {
     "name": "stdout",
     "output_type": "stream",
     "text": [
      "Enter userhandle: sumit_011\n"
     ]
    }
   ],
   "source": [
    "from selenium import webdriver\n",
    "from bs4 import BeautifulSoup\n",
    "import requests\n",
    "import sys\n",
    "\n",
    "links = {}\n",
    "\n",
    "def display_all_problems(user):\n",
    "    try:\n",
    "        try:\n",
    "            response = requests.get('https://www.codechef.com/users/'+user)\n",
    "        except:\n",
    "            input('response could not be created')\n",
    "            return False\n",
    "        \n",
    "        try:\n",
    "            soup = BeautifulSoup(response.text,'lxml')\n",
    "        except:\n",
    "            input('Could not make soup')\n",
    "            return False\n",
    "\n",
    "        content = soup.find('section',{'class':'rating-data-section problems-solved'})\n",
    "        Solved = content.find_all(['h5'])\n",
    "        sets = content.find_all(['article'])\n",
    "\t\n",
    "        print('\\n')\n",
    "        for i in range(0,2):\n",
    "            print(Solved[i].text)\n",
    "            types = sets[i].find_all(['p'])\n",
    "\t        \n",
    "            for typ in types:\n",
    "                competition = typ.find(['strong']).text\n",
    "                print(competition,end = ' ')\n",
    "                problems = typ.find_all(['a'])\n",
    "                for prob in problems:\n",
    "                    links[prob.text]=prob['href']\n",
    "                    print(prob.text,end = ' ')\n",
    "                print()\n",
    "\t            \n",
    "            print('\\n')\n",
    "\t\n",
    "        input('content found')\n",
    "        return True\n",
    "    except:\n",
    "        input('content not found')\n",
    "        return False\n",
    "\n",
    "\n",
    "usr = input('Enter userhandle: ')\n",
    "if not display_all_problems(usr):\n",
    "    sys.exit()\n",
    "problem = input('Enter problem code: ')\n",
    "# if problem in links.keys():\n",
    "#     driver = webdriver.Chrome()\n",
    "#     driver.get('https://www.codechef.com'+links[problem])\n",
    "# else:\n",
    "#     input('Problem not done by user')"
   ]
  },
  {
   "cell_type": "code",
   "execution_count": null,
   "metadata": {},
   "outputs": [],
   "source": []
  }
 ],
 "metadata": {
  "kernelspec": {
   "display_name": "Python 3",
   "language": "python",
   "name": "python3"
  },
  "language_info": {
   "codemirror_mode": {
    "name": "ipython",
    "version": 3
   },
   "file_extension": ".py",
   "mimetype": "text/x-python",
   "name": "python",
   "nbconvert_exporter": "python",
   "pygments_lexer": "ipython3",
   "version": "3.7.2"
  }
 },
 "nbformat": 4,
 "nbformat_minor": 2
}
